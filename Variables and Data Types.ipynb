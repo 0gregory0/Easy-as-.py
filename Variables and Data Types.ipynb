{
 "cells": [
  {
   "attachments": {},
   "cell_type": "markdown",
   "metadata": {},
   "source": [
    "# Variables and Data Types\n",
    "### Objectives\n",
    "By the end of this notebook, you should have understood:\n",
    "* the print() function\n",
    "* how to declare variables in python\n",
    "* the different data types in python\n",
    "    * strings\n",
    "    * integers\n",
    "    * floats\n",
    "    * lists\n",
    "\n",
    "This notebook is a summary of my article on Variables and Data Types, which can be found *here*."
   ]
  },
  {
   "attachments": {},
   "cell_type": "markdown",
   "metadata": {},
   "source": [
    "## The print() function"
   ]
  },
  {
   "cell_type": "code",
   "execution_count": 18,
   "metadata": {},
   "outputs": [
    {
     "name": "stdout",
     "output_type": "stream",
     "text": [
      "Hello, World!\n"
     ]
    }
   ],
   "source": [
    "print(\"Hello, World!\")"
   ]
  },
  {
   "attachments": {},
   "cell_type": "markdown",
   "metadata": {},
   "source": [
    "This is the code that welcomed most if not all of us to python programming. The print function is an in-built function that allows us to display the output to our code (which is the input). Think of a function as box that takes in input, processes it and produces desired output. Take, for example, the following code:"
   ]
  },
  {
   "cell_type": "code",
   "execution_count": 19,
   "metadata": {},
   "outputs": [
    {
     "data": {
      "text/plain": [
       "19"
      ]
     },
     "execution_count": 19,
     "metadata": {},
     "output_type": "execute_result"
    }
   ],
   "source": [
    "9 + 10"
   ]
  },
  {
   "attachments": {},
   "cell_type": "markdown",
   "metadata": {},
   "source": [
    "Under normal conditions (when writing python scripts (.py)) python computes the sum of 9 and 10 but it doesn't display it to us because we haven't asked it to. Therefore, we'd see no output. However, since I am writing an interactive python notebook (.ipynb), we see an output regardless of whether we explicitly told python to print it or not."
   ]
  },
  {
   "cell_type": "code",
   "execution_count": 20,
   "metadata": {},
   "outputs": [
    {
     "name": "stdout",
     "output_type": "stream",
     "text": [
      "19\n"
     ]
    }
   ],
   "source": [
    "print(9 + 10)"
   ]
  },
  {
   "attachments": {},
   "cell_type": "markdown",
   "metadata": {},
   "source": [
    "Now, we'd get an output if this was a .py file. Take note of the syntax used to call the print function (and any other function in general.):\n",
    "1. the name of the function comes first, in this case, 'print'.\n",
    "2. the name of the function is followed by parenthesis; **There is no space between the function's name and the parenthesis!** 'print()'\n",
    "3. inside the parenthesis, we type in the argument / parameter, that is, what we want to print. 'print(9 + 10)'. In other functions, the arguments are optional."
   ]
  },
  {
   "attachments": {},
   "cell_type": "markdown",
   "metadata": {},
   "source": [
    "## Variables\n",
    "9 + 10 is indeed 19. But what if we wanted to save this data so that we can come to it later? That's where *variables* come in. Variables are ways to save data for future reference and use. Variables are declared through the following steps:\n",
    "1. Giving the variable a name.\n",
    "2. The assignment operator (=).\n",
    "3. The value of the data.\n",
    "\n",
    "Let's look at an example. Say that 9 and 10 is the number of boys and girls in a ficticious classroom. Then:"
   ]
  },
  {
   "cell_type": "code",
   "execution_count": 21,
   "metadata": {},
   "outputs": [
    {
     "name": "stdout",
     "output_type": "stream",
     "text": [
      "19\n"
     ]
    }
   ],
   "source": [
    "boys = 9\n",
    "girls = 10\n",
    "total = boys + girls\n",
    "\n",
    "print(total)"
   ]
  },
  {
   "attachments": {},
   "cell_type": "markdown",
   "metadata": {},
   "source": [
    "In the example above, 'boys', 'girls' and 'total' are the names of the variables. These are the labels given to the little containers of space created in your storage to store the values given. The values are related to the storage conntainers through the assignment operator (=). Note, the assignment operator does not show equality! To show equality, we use the 'equals' operator, which looks like this (==). More on the assignment operator, the equals operator and other operators can be found in my article on operators.\n",
    "\n",
    "In the example above, we store 9 in a storage container labeled 'boys', 10 in 'girls' and their sum in 'total'. One might ask, why don't we just have one variable, 'total', and pass 9 + 10? Isn't it easier to type 9 + 10 than boys + girls? True, but in the real world, data is large and complicated. Remembering large numbers like 28409204 and 82108409 will be a pain in the neck; not to mention, the data may keep changing. Therefore, in the long run, it is easier to store data in variables and compute them using variable names.\n",
    "\n",
    "In our ficticious class, we get 2 new students, both boys, and one girl transfers to another school. The new code will be:"
   ]
  },
  {
   "cell_type": "code",
   "execution_count": 22,
   "metadata": {},
   "outputs": [
    {
     "name": "stdout",
     "output_type": "stream",
     "text": [
      "19\n",
      "20\n"
     ]
    }
   ],
   "source": [
    "boys = 9\n",
    "girls = 10\n",
    "total = boys + girls\n",
    "\n",
    "print(total)\n",
    "\n",
    "boys = 9 + 2\n",
    "girls = 10 - 1\n",
    "total = boys + girls\n",
    "\n",
    "print(total)"
   ]
  },
  {
   "attachments": {},
   "cell_type": "markdown",
   "metadata": {},
   "source": [
    "Note how the value changes. For conciseness, this can be refactored using the following operators:"
   ]
  },
  {
   "cell_type": "code",
   "execution_count": 23,
   "metadata": {},
   "outputs": [
    {
     "name": "stdout",
     "output_type": "stream",
     "text": [
      "19\n",
      "20\n"
     ]
    }
   ],
   "source": [
    "boys = 9\n",
    "girls = 10\n",
    "total = boys + girls\n",
    "\n",
    "print(total)\n",
    "\n",
    "boys += 2\n",
    "girls -= 1\n",
    "total = boys + girls\n",
    "\n",
    "print(total)"
   ]
  },
  {
   "attachments": {},
   "cell_type": "markdown",
   "metadata": {},
   "source": [
    "The fact that variables change in python means that they are *mutable*.\n",
    "\n",
    "Note, when naming variables, there are a few syntax rules that need to be adhered to to avoid errors:\n",
    "* Variable names should always start with a letter or an underscore (_). They cannot start with a number.\n",
    "* Variable names can only contain letters, numbers, and underscores. They cannot contain any other special characters such as !, @, #, $, %, etc.\n",
    "* Variable names are case sensitive. For example, \"myVar\" and \"myvar\" are two different variables.\n",
    "* It is best practice to use lowercase letters for variable names, except for constants, which should be in all uppercase letters.\n",
    "* Variable names should be descriptive and meaningful. They should give an idea of what the variable represents.\n",
    "* If a variable name consists of multiple words, it is recommended to use underscores to separate the words. For example, \"first_name\" instead of \"firstname\".\n",
    "* It is not recommended to use built-in keywords or function names as variable names. For example, \"print\" is a built-in function in Python, so it should not be used as a variable name"
   ]
  },
  {
   "attachments": {},
   "cell_type": "markdown",
   "metadata": {},
   "source": [
    "## Data Types"
   ]
  }
 ],
 "metadata": {
  "kernelspec": {
   "display_name": "Python 3",
   "language": "python",
   "name": "python3"
  },
  "language_info": {
   "codemirror_mode": {
    "name": "ipython",
    "version": 3
   },
   "file_extension": ".py",
   "mimetype": "text/x-python",
   "name": "python",
   "nbconvert_exporter": "python",
   "pygments_lexer": "ipython3",
   "version": "3.10.10"
  },
  "orig_nbformat": 4,
  "vscode": {
   "interpreter": {
    "hash": "5c41cc7a6bf458ae2af5583a7906ef5f402c759b4882f3cbfc8ede19b81b2d2f"
   }
  }
 },
 "nbformat": 4,
 "nbformat_minor": 2
}
